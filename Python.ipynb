{
  "nbformat": 4,
  "nbformat_minor": 0,
  "metadata": {
    "colab": {
      "provenance": [],
      "include_colab_link": true
    },
    "kernelspec": {
      "name": "python3",
      "display_name": "Python 3"
    },
    "language_info": {
      "name": "python"
    }
  },
  "cells": [
    {
      "cell_type": "markdown",
      "metadata": {
        "id": "view-in-github",
        "colab_type": "text"
      },
      "source": [
        "<a href=\"https://colab.research.google.com/github/Belva99/gingervalua26/blob/main/Python.ipynb\" target=\"_parent\"><img src=\"https://colab.research.google.com/assets/colab-badge.svg\" alt=\"Open In Colab\"/></a>"
      ]
    },
    {
      "cell_type": "code",
      "execution_count": null,
      "metadata": {
        "colab": {
          "base_uri": "https://localhost:8080/"
        },
        "id": "8vCzCW0NRzJ4",
        "outputId": "670ec1a4-7081-498e-bc8f-4cb3a342db20"
      },
      "outputs": [
        {
          "output_type": "stream",
          "name": "stdout",
          "text": [
            "Python 3.10.12\n"
          ]
        }
      ],
      "source": [
        "!python --version\n"
      ]
    },
    {
      "cell_type": "code",
      "source": [
        "myVariable_1=4\n",
        "myVariable_2=6\n",
        "\n",
        "print(myVariable_1+myVariable_2)\n",
        "print(myVariable_1-myVariable_2)\n",
        "print(myVariable_1*myVariable_2)\n",
        "print(myVariable_1**myVariable_2)\n",
        "print(myVariable_1/myVariable_2)"
      ],
      "metadata": {
        "colab": {
          "base_uri": "https://localhost:8080/"
        },
        "id": "0pgpocJ3R8cP",
        "outputId": "b947e98d-e79e-4a53-f978-362159033220"
      },
      "execution_count": null,
      "outputs": [
        {
          "output_type": "stream",
          "name": "stdout",
          "text": [
            "10\n",
            "-2\n",
            "24\n",
            "4096\n",
            "0.6666666666666666\n"
          ]
        }
      ]
    },
    {
      "cell_type": "code",
      "source": [
        "aux1=True\n",
        "aux2=False\n",
        "\n",
        "print(aux1 and aux2)\n",
        "print(aux1 or aux2)\n",
        "print(not aux1)"
      ],
      "metadata": {
        "colab": {
          "base_uri": "https://localhost:8080/"
        },
        "id": "AJja-5OSSxjA",
        "outputId": "b9197b90-1cba-4101-a2dd-b55989866632"
      },
      "execution_count": null,
      "outputs": [
        {
          "output_type": "stream",
          "name": "stdout",
          "text": [
            "False\n",
            "True\n",
            "False\n"
          ]
        }
      ]
    },
    {
      "cell_type": "code",
      "source": [
        "myNameIS='Ginger valuarte'\n",
        "print(myNameIS)\n",
        "\n",
        "print(myNameIS.upper())\n",
        "print(myNameIS.lower())\n",
        "print(myNameIS.upper())"
      ],
      "metadata": {
        "colab": {
          "base_uri": "https://localhost:8080/"
        },
        "id": "elPAQUFdTYJY",
        "outputId": "12e4ee85-1e01-452d-c881-54fad71187db"
      },
      "execution_count": null,
      "outputs": [
        {
          "output_type": "stream",
          "name": "stdout",
          "text": [
            "Ginger valuarte\n",
            "GINGER VALUARTE\n",
            "ginger valuarte\n",
            "GINGER VALUARTE\n"
          ]
        }
      ]
    },
    {
      "cell_type": "code",
      "source": [
        "tmp='Cesar, Carlos,  santiago'\n",
        "print(tmp)\n",
        "print(tmp.split(','))"
      ],
      "metadata": {
        "colab": {
          "base_uri": "https://localhost:8080/"
        },
        "id": "vW8tuPp6UqgP",
        "outputId": "978a03a7-653c-4ee8-806b-6f57b5065dba"
      },
      "execution_count": null,
      "outputs": [
        {
          "output_type": "stream",
          "name": "stdout",
          "text": [
            "Cesar, Carlos,  santiago\n",
            "['Cesar', ' Carlos', '  santiago']\n"
          ]
        }
      ]
    },
    {
      "cell_type": "code",
      "source": [
        "scholaList=['notebook', 'pen', 'ruler', 'eraser', 'pencil']\n",
        "print(scholaList)\n",
        "scholaList.append('computer')\n",
        "print(scholaList)\n",
        "#print(scholaList[3])\n",
        "#scholaList.pop(3)\n",
        "del scholaList[3]\n",
        "print(scholaList)\n"
      ],
      "metadata": {
        "colab": {
          "base_uri": "https://localhost:8080/"
        },
        "id": "4Qd053kHVpxg",
        "outputId": "25b61172-760b-4acc-b77b-70fa35109f31"
      },
      "execution_count": null,
      "outputs": [
        {
          "output_type": "stream",
          "name": "stdout",
          "text": [
            "['notebook', 'pen', 'ruler', 'eraser', 'pencil']\n",
            "['notebook', 'pen', 'ruler', 'eraser', 'pencil', 'computer']\n",
            "['notebook', 'pen', 'ruler', 'pencil', 'computer']\n"
          ]
        }
      ]
    },
    {
      "cell_type": "code",
      "source": [
        "myList=list(range(15))\n",
        "print(myList)\n",
        "print(myList[4:11])\n",
        "print(myList[-5])"
      ],
      "metadata": {
        "colab": {
          "base_uri": "https://localhost:8080/"
        },
        "id": "5Hogy7AaYzzW",
        "outputId": "07663c8c-7d51-4346-ef59-82614b1ceadc"
      },
      "execution_count": null,
      "outputs": [
        {
          "output_type": "stream",
          "name": "stdout",
          "text": [
            "[0, 1, 2, 3, 4, 5, 6, 7, 8, 9, 10, 11, 12, 13, 14]\n",
            "[4, 5, 6, 7, 8, 9, 10]\n",
            "10\n"
          ]
        }
      ]
    },
    {
      "cell_type": "code",
      "source": [
        "myDiccionario={'cat': 'cute', 'dog': 'fat' , 'lion': 'strong'}\n",
        "\n",
        "print(type(myDiccionario))\n",
        "\n",
        "\n",
        "for key, value in myDiccionario.items():\n",
        "  print(key,value)\n",
        "  print(f' key {key}, value {value}')\n",
        "  print('key %s, value %s'%(key,value))\n",
        "  #print('the key is: {} and the value: {}'.format(key, value))\n",
        "  #myDiccionario['monkey']='so cute'\n",
        "  print('----------------')\n",
        "  print(myDiccionario)"
      ],
      "metadata": {
        "colab": {
          "base_uri": "https://localhost:8080/"
        },
        "id": "YLn8NoQYT2Zy",
        "outputId": "97143ecf-2bd1-4a30-89bb-e8b7624db04c"
      },
      "execution_count": null,
      "outputs": [
        {
          "output_type": "stream",
          "name": "stdout",
          "text": [
            "<class 'dict'>\n",
            "cat cute\n",
            " key cat, value cute\n",
            "key cat, value cute\n",
            "----------------\n",
            "{'cat': 'cute', 'dog': 'fat', 'lion': 'strong'}\n",
            "dog fat\n",
            " key dog, value fat\n",
            "key dog, value fat\n",
            "----------------\n",
            "{'cat': 'cute', 'dog': 'fat', 'lion': 'strong'}\n",
            "lion strong\n",
            " key lion, value strong\n",
            "key lion, value strong\n",
            "----------------\n",
            "{'cat': 'cute', 'dog': 'fat', 'lion': 'strong'}\n"
          ]
        }
      ]
    },
    {
      "cell_type": "code",
      "source": [
        "tmp=list()\n",
        "for i in range(1, 101, 1):\n",
        "  if i%2==0:\n",
        "    tmp.append(i)\n",
        "print(tmp)\n",
        "print('----------------')\n",
        "aux=[i for i in range (1, 101) if i%2==0]\n",
        "print(aux)"
      ],
      "metadata": {
        "colab": {
          "base_uri": "https://localhost:8080/"
        },
        "id": "xOOqoV-uT38D",
        "outputId": "76de831b-31aa-421b-856a-7e93b106c9e4"
      },
      "execution_count": null,
      "outputs": [
        {
          "output_type": "stream",
          "name": "stdout",
          "text": [
            "[2, 4, 6, 8, 10, 12, 14, 16, 18, 20, 22, 24, 26, 28, 30, 32, 34, 36, 38, 40, 42, 44, 46, 48, 50, 52, 54, 56, 58, 60, 62, 64, 66, 68, 70, 72, 74, 76, 78, 80, 82, 84, 86, 88, 90, 92, 94, 96, 98, 100]\n",
            "----------------\n",
            "[2, 4, 6, 8, 10, 12, 14, 16, 18, 20, 22, 24, 26, 28, 30, 32, 34, 36, 38, 40, 42, 44, 46, 48, 50, 52, 54, 56, 58, 60, 62, 64, 66, 68, 70, 72, 74, 76, 78, 80, 82, 84, 86, 88, 90, 92, 94, 96, 98, 100]\n"
          ]
        }
      ]
    },
    {
      "cell_type": "code",
      "source": [
        "tmpList=[i**2 for i in range(1, 101 ) if i%2==0]\n",
        "print(tmpList)"
      ],
      "metadata": {
        "colab": {
          "base_uri": "https://localhost:8080/"
        },
        "id": "FO4h2PGxT7Mc",
        "outputId": "c4f474e5-e315-42a2-97f6-96b3ac31c472"
      },
      "execution_count": null,
      "outputs": [
        {
          "output_type": "stream",
          "name": "stdout",
          "text": [
            "[4, 16, 36, 64, 100, 144, 196, 256, 324, 400, 484, 576, 676, 784, 900, 1024, 1156, 1296, 1444, 1600, 1764, 1936, 2116, 2304, 2500, 2704, 2916, 3136, 3364, 3600, 3844, 4096, 4356, 4624, 4900, 5184, 5476, 5776, 6084, 6400, 6724, 7056, 7396, 7744, 8100, 8464, 8836, 9216, 9604, 10000]\n"
          ]
        }
      ]
    }
  ]
}