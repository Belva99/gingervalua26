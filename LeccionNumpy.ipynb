{
  "nbformat": 4,
  "nbformat_minor": 0,
  "metadata": {
    "colab": {
      "provenance": [],
      "authorship_tag": "ABX9TyOSbZxb1pz0ofh+UwvGJ2hj",
      "include_colab_link": true
    },
    "kernelspec": {
      "name": "python3",
      "display_name": "Python 3"
    },
    "language_info": {
      "name": "python"
    }
  },
  "cells": [
    {
      "cell_type": "markdown",
      "metadata": {
        "id": "view-in-github",
        "colab_type": "text"
      },
      "source": [
        "<a href=\"https://colab.research.google.com/github/Belva99/gingervalua26/blob/main/LeccionNumpy.ipynb\" target=\"_parent\"><img src=\"https://colab.research.google.com/assets/colab-badge.svg\" alt=\"Open In Colab\"/></a>"
      ]
    },
    {
      "cell_type": "code",
      "execution_count": 7,
      "metadata": {
        "id": "r5TPo1O589Hy"
      },
      "outputs": [],
      "source": [
        "# Create a 1D array of numbers from 0 to 9\n",
        "# your code here\n",
        "import numpy as np\n",
        "\n",
        "pass"
      ]
    },
    {
      "cell_type": "code",
      "source": [
        "# Create random vector of size 10 and replace the maximum value by 0lista=list(range(9))\n",
        "print(lista)\n",
        "\n",
        "pass"
      ],
      "metadata": {
        "colab": {
          "base_uri": "https://localhost:8080/"
        },
        "id": "89CZ2hKl9FrK",
        "outputId": "556a9fe7-b229-4e85-bcd8-d27d4b05b449"
      },
      "execution_count": 8,
      "outputs": [
        {
          "output_type": "stream",
          "name": "stdout",
          "text": [
            "[0, 1, 2, 3, 4, 5, 6, 7, 8]\n"
          ]
        }
      ]
    },
    {
      "cell_type": "code",
      "source": [
        "vector = np.random.rand(10)\n",
        "vector[vector.argmax()] = 0\n",
        "print(vector)\n",
        "\n",
        "pass"
      ],
      "metadata": {
        "colab": {
          "base_uri": "https://localhost:8080/"
        },
        "id": "H_0UPaH99Nvl",
        "outputId": "2485adef-9a34-4330-d60b-3995b7f9b459"
      },
      "execution_count": 9,
      "outputs": [
        {
          "output_type": "stream",
          "name": "stdout",
          "text": [
            "[0.78008773 0.08140979 0.94466014 0.11406177 0.65254242 0.\n",
            " 0.33893776 0.57737436 0.97225226 0.97948719]\n"
          ]
        }
      ]
    },
    {
      "cell_type": "code",
      "source": [
        "# Print the number 8 from the array below:\n",
        "arr = np.array([[1,2,3,4,5], [6,7,8,9,10]])\n",
        "print(arr[1, 2])\n",
        "\n",
        "pass"
      ],
      "metadata": {
        "colab": {
          "base_uri": "https://localhost:8080/"
        },
        "id": "cXzBSkYf9WYh",
        "outputId": "c562ceeb-76a9-41dd-d585-f1e793af35ad"
      },
      "execution_count": 10,
      "outputs": [
        {
          "output_type": "stream",
          "name": "stdout",
          "text": [
            "8\n"
          ]
        }
      ]
    },
    {
      "cell_type": "code",
      "source": [
        "# Print the numbers [3, 4, 5] from the array below:\n",
        "arr = np.array([1,2,3,4,5,6,7])\n",
        "print(arr[2:5])\n",
        "pass"
      ],
      "metadata": {
        "colab": {
          "base_uri": "https://localhost:8080/"
        },
        "id": "KyPwyvXT9byH",
        "outputId": "45761e21-497e-4fef-f028-d56b9b1e682e"
      },
      "execution_count": 5,
      "outputs": [
        {
          "output_type": "stream",
          "name": "stdout",
          "text": [
            "[3 4 5]\n"
          ]
        }
      ]
    },
    {
      "cell_type": "code",
      "source": [
        "# Print the last 4 numbers from the array below:\n",
        "arr = np.array([1,2,3,4,5,6,7])\n",
        "print(arr[3:])\n",
        "pass"
      ],
      "metadata": {
        "colab": {
          "base_uri": "https://localhost:8080/"
        },
        "id": "G7jec6hg998O",
        "outputId": "82fd5e76-8b3c-4063-8650-5756244f7567"
      },
      "execution_count": 11,
      "outputs": [
        {
          "output_type": "stream",
          "name": "stdout",
          "text": [
            "[4 5 6 7]\n"
          ]
        }
      ]
    },
    {
      "cell_type": "code",
      "source": [
        "\n",
        "# Create a 3×3 numpy array of all True’s\n",
        "tmp=10*np.random.random((4,4))\n",
        "mascara=tmp>0\n",
        "print(tmp)\n",
        "print(\"-------------------\")\n",
        "print(mascara)\n",
        "pass"
      ],
      "metadata": {
        "colab": {
          "base_uri": "https://localhost:8080/"
        },
        "id": "ToQEV4aQ-B88",
        "outputId": "b73cbff7-2da4-452d-d907-c5602385f10f"
      },
      "execution_count": 12,
      "outputs": [
        {
          "output_type": "stream",
          "name": "stdout",
          "text": [
            "[[4.39974168e+00 3.18786084e+00 4.65022586e+00 6.56036597e-01]\n",
            " [3.76110350e+00 1.78024967e+00 9.75364552e+00 1.50057387e+00]\n",
            " [7.31043504e+00 1.79620500e+00 9.19193913e-01 4.97579589e+00]\n",
            " [5.40789203e+00 2.98982839e+00 7.80379096e+00 6.51976953e-03]]\n",
            "-------------------\n",
            "[[ True  True  True  True]\n",
            " [ True  True  True  True]\n",
            " [ True  True  True  True]\n",
            " [ True  True  True  True]]\n"
          ]
        }
      ]
    },
    {
      "cell_type": "code",
      "source": [
        "# Extract all odd numbers from arr\n",
        "tmp = np.random.randint(1, 11, size=(4, 4))\n",
        "print(tmp)\n",
        "\n",
        "print('----------------------------------')\n",
        "\n",
        "mask = np.mod(tmp, 2) == 0\n",
        "print(tmp[mask])\n",
        "pass\n",
        ""
      ],
      "metadata": {
        "colab": {
          "base_uri": "https://localhost:8080/"
        },
        "id": "SggvHHB0-Gbo",
        "outputId": "defb6a25-d81a-4014-84af-5ce8a4d9b024"
      },
      "execution_count": 14,
      "outputs": [
        {
          "output_type": "stream",
          "name": "stdout",
          "text": [
            "[[6 5 5 4]\n",
            " [8 8 7 6]\n",
            " [3 4 2 7]\n",
            " [1 6 4 5]]\n",
            "----------------------------------\n",
            "[6 4 8 8 6 4 2 6 4]\n"
          ]
        }
      ]
    },
    {
      "cell_type": "code",
      "source": [
        "# Create a vector with values ranging from 10 to 49 (★☆☆)\n",
        "tmp = np.arange(10,50)\n",
        "print(tmp)\n",
        "pass"
      ],
      "metadata": {
        "colab": {
          "base_uri": "https://localhost:8080/"
        },
        "id": "xn5DE2fy-SKx",
        "outputId": "306b92d1-e725-468e-cdba-b68a852f30f3"
      },
      "execution_count": 15,
      "outputs": [
        {
          "output_type": "stream",
          "name": "stdout",
          "text": [
            "[10 11 12 13 14 15 16 17 18 19 20 21 22 23 24 25 26 27 28 29 30 31 32 33\n",
            " 34 35 36 37 38 39 40 41 42 43 44 45 46 47 48 49]\n"
          ]
        }
      ]
    },
    {
      "cell_type": "code",
      "source": [
        "# Reverse a vector (first element becomes last)\n",
        "vectorInvertido = tmp[::-1]\n",
        "print(vectorInvertido)\n",
        "pass"
      ],
      "metadata": {
        "colab": {
          "base_uri": "https://localhost:8080/"
        },
        "id": "pZ7EzAk--YRL",
        "outputId": "8efabd40-a07c-4b98-c3cb-cb476c4500e8"
      },
      "execution_count": 16,
      "outputs": [
        {
          "output_type": "stream",
          "name": "stdout",
          "text": [
            "[49 48 47 46 45 44 43 42 41 40 39 38 37 36 35 34 33 32 31 30 29 28 27 26\n",
            " 25 24 23 22 21 20 19 18 17 16 15 14 13 12 11 10]\n"
          ]
        }
      ]
    },
    {
      "cell_type": "code",
      "source": [
        "#  Create a 10x10 array with random integer values and find the minimum and maximum values\n",
        "tmp = np.random.randint(1, 101, size=(10, 10))\n",
        "minimo = np.min(tmp)\n",
        "maximo = np.max(tmp)\n",
        "print(\"Matriz\")\n",
        "print(tmp)\n",
        "print(\"Minimo\")\n",
        "print(minimo)\n",
        "print(\"Maximo\")\n",
        "print(maximo)\n",
        "pass"
      ],
      "metadata": {
        "colab": {
          "base_uri": "https://localhost:8080/"
        },
        "id": "NDAZoKfB-a2f",
        "outputId": "abf1cdce-b3dd-4231-ca16-7be3d9acc478"
      },
      "execution_count": 17,
      "outputs": [
        {
          "output_type": "stream",
          "name": "stdout",
          "text": [
            "Matriz\n",
            "[[38 51 68 99 27 66 97 54 10 68]\n",
            " [ 4 37 33  7  2  4 87 47 39 52]\n",
            " [11 58 25 89 93 72 47 91 42 70]\n",
            " [44 30 61 13 99 77  9  4 94 89]\n",
            " [33 84 12 29 47 50 46 33 65 14]\n",
            " [35 55 37 62 51 43 54 18 97 60]\n",
            " [63  8 59  4 74 65 41 64 44  2]\n",
            " [83 65  9 20 55  2 65 67 72 51]\n",
            " [14 16 30 12 74 65 48 20 62 96]\n",
            " [70 43  1 72 70 70 46 42 42 56]]\n",
            "Minimo\n",
            "1\n",
            "Maximo\n",
            "99\n"
          ]
        }
      ]
    },
    {
      "cell_type": "code",
      "source": [
        "# Create a 3x3x3 array with random values\n",
        "tmp2 = np.random.random((3,3,3))\n",
        "print(tmp2)\n",
        "pass"
      ],
      "metadata": {
        "colab": {
          "base_uri": "https://localhost:8080/"
        },
        "id": "5EUPp6QQ-dPa",
        "outputId": "4ddd1c4d-6410-457b-d489-e09841d5dede"
      },
      "execution_count": 18,
      "outputs": [
        {
          "output_type": "stream",
          "name": "stdout",
          "text": [
            "[[[0.31545873 0.73427847 0.5453215 ]\n",
            "  [0.02962133 0.38142235 0.57644786]\n",
            "  [0.19990475 0.46066481 0.18268491]]\n",
            "\n",
            " [[0.86881759 0.57255846 0.1595506 ]\n",
            "  [0.04368299 0.46272096 0.80593013]\n",
            "  [0.44638531 0.58524676 0.06123025]]\n",
            "\n",
            " [[0.25949784 0.72479207 0.11182652]\n",
            "  [0.61956031 0.65309588 0.96566945]\n",
            "  [0.96652413 0.53587542 0.36733223]]]\n"
          ]
        }
      ]
    },
    {
      "cell_type": "code",
      "source": [
        "# Replace all odd numbers in arr with -1\n",
        "tmp = np.random.randint(1, 11, size=(3, 3, 3))\n",
        "print(tmp)\n",
        "print(\"-----------------\")\n",
        "tmp[tmp % 2 == 1] = -1\n",
        "print(tmp)\n",
        "pass"
      ],
      "metadata": {
        "colab": {
          "base_uri": "https://localhost:8080/"
        },
        "id": "eVcwozSI-jT6",
        "outputId": "d044c740-f1cd-4134-e6da-39826c20d096"
      },
      "execution_count": 19,
      "outputs": [
        {
          "output_type": "stream",
          "name": "stdout",
          "text": [
            "[[[ 6  6  7]\n",
            "  [ 4  2  9]\n",
            "  [ 9  3  1]]\n",
            "\n",
            " [[ 5  7  1]\n",
            "  [ 5  6  5]\n",
            "  [ 5  6 10]]\n",
            "\n",
            " [[ 9 10  9]\n",
            "  [ 4  8  5]\n",
            "  [ 8  2  2]]]\n",
            "-----------------\n",
            "[[[ 6  6 -1]\n",
            "  [ 4  2 -1]\n",
            "  [-1 -1 -1]]\n",
            "\n",
            " [[-1 -1 -1]\n",
            "  [-1  6 -1]\n",
            "  [-1  6 10]]\n",
            "\n",
            " [[-1 10 -1]\n",
            "  [ 4  8 -1]\n",
            "  [ 8  2  2]]]\n"
          ]
        }
      ]
    },
    {
      "cell_type": "code",
      "source": [
        "# Create an array of type float\n",
        "tmpF = np.random.rand(5)\n",
        "print(tmpF)\n",
        "pass"
      ],
      "metadata": {
        "colab": {
          "base_uri": "https://localhost:8080/"
        },
        "id": "rqErmUHa-uIO",
        "outputId": "dd2a046c-0f3b-4bb4-d38a-fc449808b6d2"
      },
      "execution_count": 20,
      "outputs": [
        {
          "output_type": "stream",
          "name": "stdout",
          "text": [
            "[0.05205437 0.18530721 0.21149254 0.90947069 0.99058249]\n"
          ]
        }
      ]
    },
    {
      "cell_type": "code",
      "source": [
        "# Convert a 1D array to a 2D array with 2 rows\n",
        "lista = list(range(12))\n",
        "lista = np.array(lista)\n",
        "two_d_array = lista.reshape(2, 6)\n",
        "print(two_d_array)\n",
        "\n",
        "pass\n",
        ""
      ],
      "metadata": {
        "colab": {
          "base_uri": "https://localhost:8080/"
        },
        "id": "NS4rE6Bl-wj8",
        "outputId": "c2df85a8-6da1-4d74-be90-babb5a67378c"
      },
      "execution_count": 21,
      "outputs": [
        {
          "output_type": "stream",
          "name": "stdout",
          "text": [
            "[[ 0  1  2  3  4  5]\n",
            " [ 6  7  8  9 10 11]]\n"
          ]
        }
      ]
    },
    {
      "cell_type": "code",
      "source": [
        "# How to find common values between two arrays?\n",
        "\n",
        "Z1 = np.random.randint(0,10,10)\n",
        "Z2 = np.random.randint(0,10,10)\n",
        "valoresComunes = np.intersect1d(Z1, Z2)\n",
        "print(Z1)\n",
        "print(\"-------------\")\n",
        "print(Z2)\n",
        "print(\"-------------\")\n",
        "print(valoresComunes)\n",
        "pass\n",
        ""
      ],
      "metadata": {
        "colab": {
          "base_uri": "https://localhost:8080/"
        },
        "id": "4RjKUPNf-2NY",
        "outputId": "015de2e4-f5f9-47d9-cc4f-c15143e3e174"
      },
      "execution_count": 22,
      "outputs": [
        {
          "output_type": "stream",
          "name": "stdout",
          "text": [
            "[5 7 0 3 3 0 6 2 9 6]\n",
            "-------------\n",
            "[2 8 4 8 3 0 5 1 6 2]\n",
            "-------------\n",
            "[0 2 3 5 6]\n"
          ]
        }
      ]
    },
    {
      "cell_type": "code",
      "source": [
        "#  Consider two random array A and B, check if they are equal\n",
        "\n",
        "A = np.random.randint(0,2,5)\n",
        "B = np.random.randint(0,2,5)\n",
        "\n",
        "print('Array A')\n",
        "print(A)\n",
        "print('Array B')\n",
        "print(B)\n",
        "\n",
        "if np.array_equal(A,B):\n",
        "  print('Son iguales')\n",
        "else:\n",
        "  print('Son diferentes')\n",
        "\n",
        "pass"
      ],
      "metadata": {
        "colab": {
          "base_uri": "https://localhost:8080/"
        },
        "id": "AlN9zHvh-68T",
        "outputId": "c8ab62bf-ce32-48ad-afc0-0c845c0f2918"
      },
      "execution_count": 23,
      "outputs": [
        {
          "output_type": "stream",
          "name": "stdout",
          "text": [
            "Array A\n",
            "[1 0 1 0 0]\n",
            "Array B\n",
            "[0 0 1 0 0]\n",
            "Son diferentes\n"
          ]
        }
      ]
    },
    {
      "cell_type": "code",
      "source": [
        "# Stack arrays a and b vertically\n",
        "print('Array A')\n",
        "print(A)\n",
        "print('Array B')\n",
        "print(B)\n",
        "matrizApiladaVertical = np.vstack((A, B))\n",
        "print(\"Stacked Array:\")\n",
        "print(matrizApiladaVertical)\n",
        "pass"
      ],
      "metadata": {
        "colab": {
          "base_uri": "https://localhost:8080/"
        },
        "id": "cRgNBMbJ_AJ-",
        "outputId": "31c8f2cd-04a6-4004-cc44-6b49d092f782"
      },
      "execution_count": 24,
      "outputs": [
        {
          "output_type": "stream",
          "name": "stdout",
          "text": [
            "Array A\n",
            "[1 0 1 0 0]\n",
            "Array B\n",
            "[0 0 1 0 0]\n",
            "Stacked Array:\n",
            "[[1 0 1 0 0]\n",
            " [0 0 1 0 0]]\n"
          ]
        }
      ]
    },
    {
      "cell_type": "code",
      "source": [
        "# Stack the arrays a and b horizontally.\n",
        "print('Array A')\n",
        "print(A)\n",
        "print('Array B')\n",
        "print(B)\n",
        "matrizApiladaHorizontal = np.hstack((A, B))\n",
        "print(\"Stacked Array:\")\n",
        "print(matrizApiladaHorizontal)\n",
        "pass"
      ],
      "metadata": {
        "colab": {
          "base_uri": "https://localhost:8080/"
        },
        "id": "kF9vGrJ4_CsX",
        "outputId": "583c2127-6042-4b16-db2e-5fcf4365e2f2"
      },
      "execution_count": 25,
      "outputs": [
        {
          "output_type": "stream",
          "name": "stdout",
          "text": [
            "Array A\n",
            "[1 0 1 0 0]\n",
            "Array B\n",
            "[0 0 1 0 0]\n",
            "Stacked Array:\n",
            "[1 0 1 0 0 0 0 1 0 0]\n"
          ]
        }
      ]
    },
    {
      "cell_type": "code",
      "source": [
        "# Get all items between 5 and 10 from array tmp.\n",
        "# your code here\n",
        "import numpy as np\n",
        "tmp = np.arange(15)\n",
        "print(tmp)\n",
        "print('-------------')\n",
        "valores = tmp[(tmp>=5)&(tmp<=10)]\n",
        "print(valores)\n",
        "# pass"
      ],
      "metadata": {
        "colab": {
          "base_uri": "https://localhost:8080/"
        },
        "id": "q2D1JR7V_HL9",
        "outputId": "df27806e-16f8-4617-9ac9-006010d5ce0a"
      },
      "execution_count": 26,
      "outputs": [
        {
          "output_type": "stream",
          "name": "stdout",
          "text": [
            "[ 0  1  2  3  4  5  6  7  8  9 10 11 12 13 14]\n",
            "-------------\n",
            "[ 5  6  7  8  9 10]\n"
          ]
        }
      ]
    },
    {
      "cell_type": "code",
      "source": [
        "# How to make a python function that handles scalars to work on numpy arrays?\n",
        "# Hint\n",
        "# Desired Output:\n",
        "# a = np.array([5, 7, 9, 8, 6, 4, 5])\n",
        "# b = np.array([6, 3, 4, 8, 9, 7, 1])\n",
        "# pair_max(a, b)\n",
        "# #> array([ 6.,  7.,  9.,  8.,  9.,  7.,  5.])\n",
        "\n",
        "\n",
        "\"\"\"Arrays\"\"\"\n",
        "# a = np.array([5, 7, 9, 8, 6, 4, 5])\n",
        "a = np.random.randint(1,10,7)\n",
        "print(\"Array A\")\n",
        "print(a)\n",
        "# b = np.array([6, 3, 4, 8, 9, 7, 1])\n",
        "b = np.random.randint(1,10,7)\n",
        "print(\"Array B\")\n",
        "print(b)\n",
        "\n",
        "print(\"----------------------------\")\n",
        "\n",
        "\"\"\"Method 1\"\"\"\n",
        "print(\"Method 1\")\n",
        "def parMax(a, b):\n",
        "    \"\"\"Get the element-wise maximum of two arrays\"\"\"\n",
        "    return np.maximum(a, b)\n",
        "\n",
        "c = parMax(a, b)\n",
        "print(c)\n",
        "\n",
        "print(\"----------------------------\")\n",
        "\n",
        "print(\"Method 2\")\n",
        "\"\"\"Method 2\"\"\"\n",
        "def maxx(x, y):\n",
        "    \"\"\"Get the maximum of two items\"\"\"\n",
        "    if x >= y:\n",
        "        return x\n",
        "    else:\n",
        "        return y\n",
        "\n",
        "c = np.array([maxx(x, y) for x, y in zip(a, b)])\n",
        "print(c)"
      ],
      "metadata": {
        "colab": {
          "base_uri": "https://localhost:8080/"
        },
        "id": "JLZznZ4u_Mzc",
        "outputId": "c5e6a2e2-b2fe-4035-c883-77656c0dc8ce"
      },
      "execution_count": 27,
      "outputs": [
        {
          "output_type": "stream",
          "name": "stdout",
          "text": [
            "Array A\n",
            "[9 4 6 8 7 3 5]\n",
            "Array B\n",
            "[2 2 6 8 1 8 4]\n",
            "----------------------------\n",
            "Method 1\n",
            "[9 4 6 8 7 8 5]\n",
            "----------------------------\n",
            "Method 2\n",
            "[9 4 6 8 7 8 5]\n"
          ]
        }
      ]
    },
    {
      "cell_type": "code",
      "source": [
        "# Swap columns 1 and 2 in the array arr.\n",
        "# Hint\n",
        "# Desired Output:\n",
        "# [[0 2 1]\n",
        "#  [3 5 4]\n",
        "#  [6 8 7]]\n",
        "\n",
        "\n",
        "arr = np.arange(9).reshape(3,3)\n",
        "print(arr)\n",
        "\n",
        "# Swap columns 1 and 2\n",
        "arr[:, [0, 1]] = arr[:, [1, 0]]\n",
        "\n",
        "print(\"------------------------\")\n",
        "print(\"Cambio de columnas 1 y 2\")\n",
        "print(arr)\n",
        "\n",
        "pass"
      ],
      "metadata": {
        "colab": {
          "base_uri": "https://localhost:8080/"
        },
        "id": "SYqrmHnN_SuD",
        "outputId": "63060bc3-4d26-4b97-c3b5-d7268191b39a"
      },
      "execution_count": 28,
      "outputs": [
        {
          "output_type": "stream",
          "name": "stdout",
          "text": [
            "[[0 1 2]\n",
            " [3 4 5]\n",
            " [6 7 8]]\n",
            "------------------------\n",
            "Cambio de columnas 1 y 2\n",
            "[[1 0 2]\n",
            " [4 3 5]\n",
            " [7 6 8]]\n"
          ]
        }
      ]
    },
    {
      "cell_type": "code",
      "source": [
        "# Create a 2D array of shape 5x3 to contain random decimal numbers between 5 and 10.\n",
        "# Hint\n",
        "# The desired Output should be like the following one:\n",
        "#  [[ 8.50061025  9.10531502  6.85867783]\n",
        "#   [ 9.76262069  9.87717411  7.13466701]\n",
        "#   [ 7.48966403  8.33409158  6.16808631]\n",
        "#   [ 7.75010551  9.94535696  5.27373226]\n",
        "#   [ 8.0850361   5.56165518  7.31244004]]\n",
        "\n",
        "random_array = np.random.uniform(5, 10, size=(5, 3))\n",
        "print(random_array)\n",
        ""
      ],
      "metadata": {
        "colab": {
          "base_uri": "https://localhost:8080/"
        },
        "id": "S-IneQEa_Xr5",
        "outputId": "ba219b49-f02c-437b-c562-ab10a7b9f3be"
      },
      "execution_count": 29,
      "outputs": [
        {
          "output_type": "stream",
          "name": "stdout",
          "text": [
            "[[6.72380004 9.30705017 5.95051485]\n",
            " [6.24534312 5.02237586 5.01244178]\n",
            " [9.69773697 7.72668189 6.69518705]\n",
            " [6.36481405 7.31611073 5.64387657]\n",
            " [9.04136535 6.15590256 9.22722144]]\n"
          ]
        }
      ]
    },
    {
      "cell_type": "code",
      "source": [],
      "metadata": {
        "id": "G4TvUgP1_olZ"
      },
      "execution_count": null,
      "outputs": []
    }
  ]
}