{
  "nbformat": 4,
  "nbformat_minor": 0,
  "metadata": {
    "colab": {
      "provenance": [],
      "include_colab_link": true
    },
    "kernelspec": {
      "name": "python3",
      "display_name": "Python 3"
    },
    "language_info": {
      "name": "python"
    }
  },
  "cells": [
    {
      "cell_type": "markdown",
      "metadata": {
        "id": "view-in-github",
        "colab_type": "text"
      },
      "source": [
        "<a href=\"https://colab.research.google.com/github/Belva99/gingervalua26/blob/main/nunpy.ipynb\" target=\"_parent\"><img src=\"https://colab.research.google.com/assets/colab-badge.svg\" alt=\"Open In Colab\"/></a>"
      ]
    },
    {
      "cell_type": "code",
      "execution_count": 1,
      "metadata": {
        "colab": {
          "base_uri": "https://localhost:8080/"
        },
        "id": "ZbNFsOD22J65",
        "outputId": "6a045acb-291e-4505-b8f4-2e2fbe9a1369"
      },
      "outputs": [
        {
          "output_type": "stream",
          "name": "stdout",
          "text": [
            "[[8 7 7 3]\n",
            " [2 2 9 1]\n",
            " [8 1 8 8]]\n",
            "[[ 4  8  8 10]\n",
            " [ 7  9  5  2]\n",
            " [10  3  3  4]]\n",
            "(3, 4)\n",
            "(3, 4)\n",
            "adding numbers\n",
            "[[12 15 15 13]\n",
            " [ 9 11 14  3]\n",
            " [18  4 11 12]]\n",
            "substracting numbers\n",
            "[[ 4 -1 -1 -7]\n",
            " [-5 -7  4 -1]\n",
            " [-2 -2  5  4]]\n",
            "multiply numbers\n",
            "[[32 56 56 30]\n",
            " [14 18 45  2]\n",
            " [80  3 24 32]]\n",
            "[[12 15 15 13]\n",
            " [ 9 11 14  3]\n",
            " [18  4 11 12]]\n",
            "[[32 56 56 30]\n",
            " [14 18 45  2]\n",
            " [80  3 24 32]]\n",
            "[[2.         0.875      0.875      0.3       ]\n",
            " [0.28571429 0.22222222 1.8        0.5       ]\n",
            " [0.8        0.33333333 2.66666667 2.        ]]\n"
          ]
        }
      ],
      "source": [
        "import numpy as np\n",
        "a=np.random.randint(1,11,size=(3,4))\n",
        "b=np.random.randint(1,11,size=(3,4))\n",
        "print(a)\n",
        "print(b)\n",
        "print(a.shape)\n",
        "print(b.shape)\n",
        "print('adding numbers')\n",
        "print(a+b)\n",
        "print('substracting numbers')\n",
        "print(a-b)\n",
        "print('multiply numbers')\n",
        "print(a*b)\n",
        "\n",
        "print(np.add(a,b))\n",
        "print(np.multiply(a,b))\n",
        "print(np.divide(a,b))"
      ]
    },
    {
      "cell_type": "code",
      "source": [
        "a=np.random.randint(1,11,size=(2,3))\n",
        "b=np.random.randint(1,11,size=(3,4))\n",
        "print(a)\n",
        "print(b)\n",
        "print(np.dot(a,b))\n",
        "print(a.dot(b))"
      ],
      "metadata": {
        "colab": {
          "base_uri": "https://localhost:8080/"
        },
        "id": "-Ej4Sz259g-O",
        "outputId": "f1484b67-deeb-46bf-acd5-aaec85ac8c3d"
      },
      "execution_count": 2,
      "outputs": [
        {
          "output_type": "stream",
          "name": "stdout",
          "text": [
            "[[ 2  1  8]\n",
            " [ 9  2 10]]\n",
            "[[ 3  9  8  2]\n",
            " [ 9  8  5  6]\n",
            " [10  3 10  3]]\n",
            "[[ 95  50 101  34]\n",
            " [145 127 182  60]]\n",
            "[[ 95  50 101  34]\n",
            " [145 127 182  60]]\n"
          ]
        }
      ]
    },
    {
      "cell_type": "code",
      "source": [
        "a=np.random.randint(1,11,size=(2,2))\n",
        "print(a.shape)\n",
        "print(type(a))\n",
        "print(a)\n",
        "print(a.T)"
      ],
      "metadata": {
        "colab": {
          "base_uri": "https://localhost:8080/"
        },
        "id": "VJVfihSH_FJF",
        "outputId": "327168e6-74ba-41f7-b988-e3e602721d78"
      },
      "execution_count": 3,
      "outputs": [
        {
          "output_type": "stream",
          "name": "stdout",
          "text": [
            "(2, 2)\n",
            "<class 'numpy.ndarray'>\n",
            "[[ 7  5]\n",
            " [ 9 10]]\n",
            "[[ 7  9]\n",
            " [ 5 10]]\n"
          ]
        }
      ]
    },
    {
      "cell_type": "code",
      "source": [
        "a=np.random.randint(1,11,size=(4,3))\n",
        "b=np.array([1,0,2])\n",
        "print(a.shape)\n",
        "print(b.shape)\n",
        "\n",
        "c=np.empty_like(a)\n",
        "print(a)\n",
        "print(b)\n",
        "print(c.shape)\n",
        "print('------------------')\n",
        "print(c)\n",
        "\n"
      ],
      "metadata": {
        "colab": {
          "base_uri": "https://localhost:8080/"
        },
        "id": "Cc82XcP2_-eG",
        "outputId": "07abe1a0-1688-4266-a7bb-80638bb93fc3"
      },
      "execution_count": 4,
      "outputs": [
        {
          "output_type": "stream",
          "name": "stdout",
          "text": [
            "(4, 3)\n",
            "(3,)\n",
            "[[8 8 3]\n",
            " [9 2 1]\n",
            " [7 5 5]\n",
            " [8 1 7]]\n",
            "[1 0 2]\n",
            "(4, 3)\n",
            "------------------\n",
            "[[8 7 7]\n",
            " [3 2 2]\n",
            " [9 1 8]\n",
            " [1 8 8]]\n"
          ]
        }
      ]
    },
    {
      "cell_type": "code",
      "source": [
        "for i in range(4):\n",
        "  c[i,:]=a[i,:]+b\n",
        "\n",
        "print(a)\n",
        "print(b)\n",
        "print(c)\n",
        "print('------------------')\n",
        "c=a+b\n",
        "print(c)"
      ],
      "metadata": {
        "colab": {
          "base_uri": "https://localhost:8080/"
        },
        "id": "8jFpOVOpA_dW",
        "outputId": "2a260770-6e06-47f9-d922-905f3c9ca503"
      },
      "execution_count": 5,
      "outputs": [
        {
          "output_type": "stream",
          "name": "stdout",
          "text": [
            "[[8 8 3]\n",
            " [9 2 1]\n",
            " [7 5 5]\n",
            " [8 1 7]]\n",
            "[1 0 2]\n",
            "[[ 9  8  5]\n",
            " [10  2  3]\n",
            " [ 8  5  7]\n",
            " [ 9  1  9]]\n",
            "------------------\n",
            "[[ 9  8  5]\n",
            " [10  2  3]\n",
            " [ 8  5  7]\n",
            " [ 9  1  9]]\n"
          ]
        }
      ]
    },
    {
      "cell_type": "code",
      "source": [
        "a=np.array([1,2,3])\n",
        "\n",
        "\n",
        "#print(a)\n",
        "\n",
        "\n",
        "tmp=np.tile(a,(6,1))\n",
        "print(tmp)"
      ],
      "metadata": {
        "colab": {
          "base_uri": "https://localhost:8080/"
        },
        "id": "afpE_UBWDMnl",
        "outputId": "4b72255d-af1d-47dc-b665-e2a39b1637d6"
      },
      "execution_count": 6,
      "outputs": [
        {
          "output_type": "stream",
          "name": "stdout",
          "text": [
            "[[1 2 3]\n",
            " [1 2 3]\n",
            " [1 2 3]\n",
            " [1 2 3]\n",
            " [1 2 3]\n",
            " [1 2 3]]\n"
          ]
        }
      ]
    },
    {
      "cell_type": "code",
      "source": [
        "matriz = np.random.randint(0, 10, size=(6, 6))\n",
        "print(matriz)\n",
        "\n",
        "aux=np.mean(matriz)\n",
        "print(aux)\n",
        "print('------------------')\n",
        "matriz = np.random.randint(0, 10, size=(6, 6))\n",
        "print(matriz)\n",
        "print('------------------')\n",
        "promedio_por_filas = np.mean(matriz, axis=1)\n",
        "print(\"\\nEl promedio por filas de la matriz es:\")\n",
        "print(promedio_por_filas)"
      ],
      "metadata": {
        "colab": {
          "base_uri": "https://localhost:8080/"
        },
        "id": "16V5r7MTGU5t",
        "outputId": "29d23676-c732-4504-cd86-2eead8dea939"
      },
      "execution_count": 7,
      "outputs": [
        {
          "output_type": "stream",
          "name": "stdout",
          "text": [
            "[[3 6 0 9 0 1]\n",
            " [0 9 2 6 6 3]\n",
            " [5 0 8 8 8 7]\n",
            " [3 1 9 2 7 6]\n",
            " [4 7 8 9 6 4]\n",
            " [1 3 5 0 6 0]]\n",
            "4.5\n",
            "------------------\n",
            "[[3 9 9 8 2 4]\n",
            " [8 6 2 1 3 4]\n",
            " [4 1 8 5 2 6]\n",
            " [0 9 2 2 3 0]\n",
            " [0 3 9 1 0 0]\n",
            " [8 7 4 2 1 4]]\n",
            "------------------\n",
            "\n",
            "El promedio por filas de la matriz es:\n",
            "[5.83333333 4.         4.33333333 2.66666667 2.16666667 4.33333333]\n"
          ]
        }
      ]
    },
    {
      "cell_type": "code",
      "source": [
        "matrix_a = np.array([[1, 2], [3, 4]])\n",
        "matrix_b = np.array([[5, 6], [7, 8]])\n",
        "matrix_product = np.dot(matrix_a, matrix_b)\n",
        "\n",
        "arr = np.array([1, 2, 3])\n",
        "squared_arr = np.square(arr)"
      ],
      "metadata": {
        "id": "xXLRyNW_oQ_3"
      },
      "execution_count": 8,
      "outputs": []
    },
    {
      "cell_type": "code",
      "source": [
        "print(squared_arr)"
      ],
      "metadata": {
        "colab": {
          "base_uri": "https://localhost:8080/"
        },
        "id": "BxlZdbpOof5A",
        "outputId": "e84f8297-e71e-4e57-da7d-9a4da5d0b553"
      },
      "execution_count": 9,
      "outputs": [
        {
          "output_type": "stream",
          "name": "stdout",
          "text": [
            "[1 4 9]\n"
          ]
        }
      ]
    },
    {
      "cell_type": "code",
      "source": [
        "# Broadcasting con arrays de diferentes dimensiones\n",
        "arr_2d = np.array([[1, 2, 3], [4, 5, 6]])\n",
        "arr_1d = np.array([10, 20, 30])\n",
        "result_broadcasting = arr_2d + arr_1d\n",
        "\n",
        "print(\"Resultado del Broadcasting:\")\n",
        "print(result_broadcasting)\n",
        "\n",
        "# Concatenación de arrays a lo largo de diferentes ejes\n",
        "arr_a = np.array([[1, 2], [3, 4]])\n",
        "arr_b = np.array([[5, 6]])\n",
        "concatenated_arr = np.concatenate((arr_a, arr_b.T), axis=1)\n",
        "\n",
        "print(\"\\nResultado de la Concatenación:\")\n",
        "print(concatenated_arr)"
      ],
      "metadata": {
        "colab": {
          "base_uri": "https://localhost:8080/"
        },
        "id": "wMqPBi3Np0Zc",
        "outputId": "fc7c1df7-3a33-4c65-be1d-52c113cae8ad"
      },
      "execution_count": 10,
      "outputs": [
        {
          "output_type": "stream",
          "name": "stdout",
          "text": [
            "Resultado del Broadcasting:\n",
            "[[11 22 33]\n",
            " [14 25 36]]\n",
            "\n",
            "Resultado de la Concatenación:\n",
            "[[1 2 5]\n",
            " [3 4 6]]\n"
          ]
        }
      ]
    }
  ]
}